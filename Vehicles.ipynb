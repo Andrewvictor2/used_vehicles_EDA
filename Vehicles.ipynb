{
 "cells": [
  {
   "cell_type": "code",
   "execution_count": 1,
   "id": "2877cd77",
   "metadata": {},
   "outputs": [],
   "source": [
    "import pandas as pd\n",
    "from sklearn.experimental import enable_iterative_imputer\n",
    "from sklearn.impute import SimpleImputer, IterativeImputer\n",
    "import kagglehub\n",
    "import matplotlib.pyplot as plt"
   ]
  },
  {
   "cell_type": "code",
   "execution_count": 2,
   "id": "952cd25c",
   "metadata": {},
   "outputs": [],
   "source": [
    "# Download latest version\n",
    "path = kagglehub.dataset_download(\"austinreese/craigslist-carstrucks-data\")"
   ]
  },
  {
   "cell_type": "code",
   "execution_count": 3,
   "id": "6fdd6a4a",
   "metadata": {},
   "outputs": [],
   "source": [
    "vehicles = pd.read_csv(path + '/vehicles.csv')"
   ]
  },
  {
   "cell_type": "code",
   "execution_count": 4,
   "id": "bbc60a45",
   "metadata": {},
   "outputs": [
    {
     "data": {
      "text/html": [
       "<div>\n",
       "<style scoped>\n",
       "    .dataframe tbody tr th:only-of-type {\n",
       "        vertical-align: middle;\n",
       "    }\n",
       "\n",
       "    .dataframe tbody tr th {\n",
       "        vertical-align: top;\n",
       "    }\n",
       "\n",
       "    .dataframe thead th {\n",
       "        text-align: right;\n",
       "    }\n",
       "</style>\n",
       "<table border=\"1\" class=\"dataframe\">\n",
       "  <thead>\n",
       "    <tr style=\"text-align: right;\">\n",
       "      <th></th>\n",
       "      <th>id</th>\n",
       "      <th>url</th>\n",
       "      <th>region</th>\n",
       "      <th>region_url</th>\n",
       "      <th>price</th>\n",
       "      <th>year</th>\n",
       "      <th>manufacturer</th>\n",
       "      <th>model</th>\n",
       "      <th>condition</th>\n",
       "      <th>cylinders</th>\n",
       "      <th>...</th>\n",
       "      <th>size</th>\n",
       "      <th>type</th>\n",
       "      <th>paint_color</th>\n",
       "      <th>image_url</th>\n",
       "      <th>description</th>\n",
       "      <th>county</th>\n",
       "      <th>state</th>\n",
       "      <th>lat</th>\n",
       "      <th>long</th>\n",
       "      <th>posting_date</th>\n",
       "    </tr>\n",
       "  </thead>\n",
       "  <tbody>\n",
       "    <tr>\n",
       "      <th>0</th>\n",
       "      <td>7222695916</td>\n",
       "      <td>https://prescott.craigslist.org/cto/d/prescott...</td>\n",
       "      <td>prescott</td>\n",
       "      <td>https://prescott.craigslist.org</td>\n",
       "      <td>6000</td>\n",
       "      <td>NaN</td>\n",
       "      <td>NaN</td>\n",
       "      <td>NaN</td>\n",
       "      <td>NaN</td>\n",
       "      <td>NaN</td>\n",
       "      <td>...</td>\n",
       "      <td>NaN</td>\n",
       "      <td>NaN</td>\n",
       "      <td>NaN</td>\n",
       "      <td>NaN</td>\n",
       "      <td>NaN</td>\n",
       "      <td>NaN</td>\n",
       "      <td>az</td>\n",
       "      <td>NaN</td>\n",
       "      <td>NaN</td>\n",
       "      <td>NaN</td>\n",
       "    </tr>\n",
       "    <tr>\n",
       "      <th>1</th>\n",
       "      <td>7218891961</td>\n",
       "      <td>https://fayar.craigslist.org/ctd/d/bentonville...</td>\n",
       "      <td>fayetteville</td>\n",
       "      <td>https://fayar.craigslist.org</td>\n",
       "      <td>11900</td>\n",
       "      <td>NaN</td>\n",
       "      <td>NaN</td>\n",
       "      <td>NaN</td>\n",
       "      <td>NaN</td>\n",
       "      <td>NaN</td>\n",
       "      <td>...</td>\n",
       "      <td>NaN</td>\n",
       "      <td>NaN</td>\n",
       "      <td>NaN</td>\n",
       "      <td>NaN</td>\n",
       "      <td>NaN</td>\n",
       "      <td>NaN</td>\n",
       "      <td>ar</td>\n",
       "      <td>NaN</td>\n",
       "      <td>NaN</td>\n",
       "      <td>NaN</td>\n",
       "    </tr>\n",
       "    <tr>\n",
       "      <th>2</th>\n",
       "      <td>7221797935</td>\n",
       "      <td>https://keys.craigslist.org/cto/d/summerland-k...</td>\n",
       "      <td>florida keys</td>\n",
       "      <td>https://keys.craigslist.org</td>\n",
       "      <td>21000</td>\n",
       "      <td>NaN</td>\n",
       "      <td>NaN</td>\n",
       "      <td>NaN</td>\n",
       "      <td>NaN</td>\n",
       "      <td>NaN</td>\n",
       "      <td>...</td>\n",
       "      <td>NaN</td>\n",
       "      <td>NaN</td>\n",
       "      <td>NaN</td>\n",
       "      <td>NaN</td>\n",
       "      <td>NaN</td>\n",
       "      <td>NaN</td>\n",
       "      <td>fl</td>\n",
       "      <td>NaN</td>\n",
       "      <td>NaN</td>\n",
       "      <td>NaN</td>\n",
       "    </tr>\n",
       "    <tr>\n",
       "      <th>3</th>\n",
       "      <td>7222270760</td>\n",
       "      <td>https://worcester.craigslist.org/cto/d/west-br...</td>\n",
       "      <td>worcester / central MA</td>\n",
       "      <td>https://worcester.craigslist.org</td>\n",
       "      <td>1500</td>\n",
       "      <td>NaN</td>\n",
       "      <td>NaN</td>\n",
       "      <td>NaN</td>\n",
       "      <td>NaN</td>\n",
       "      <td>NaN</td>\n",
       "      <td>...</td>\n",
       "      <td>NaN</td>\n",
       "      <td>NaN</td>\n",
       "      <td>NaN</td>\n",
       "      <td>NaN</td>\n",
       "      <td>NaN</td>\n",
       "      <td>NaN</td>\n",
       "      <td>ma</td>\n",
       "      <td>NaN</td>\n",
       "      <td>NaN</td>\n",
       "      <td>NaN</td>\n",
       "    </tr>\n",
       "    <tr>\n",
       "      <th>4</th>\n",
       "      <td>7210384030</td>\n",
       "      <td>https://greensboro.craigslist.org/cto/d/trinit...</td>\n",
       "      <td>greensboro</td>\n",
       "      <td>https://greensboro.craigslist.org</td>\n",
       "      <td>4900</td>\n",
       "      <td>NaN</td>\n",
       "      <td>NaN</td>\n",
       "      <td>NaN</td>\n",
       "      <td>NaN</td>\n",
       "      <td>NaN</td>\n",
       "      <td>...</td>\n",
       "      <td>NaN</td>\n",
       "      <td>NaN</td>\n",
       "      <td>NaN</td>\n",
       "      <td>NaN</td>\n",
       "      <td>NaN</td>\n",
       "      <td>NaN</td>\n",
       "      <td>nc</td>\n",
       "      <td>NaN</td>\n",
       "      <td>NaN</td>\n",
       "      <td>NaN</td>\n",
       "    </tr>\n",
       "  </tbody>\n",
       "</table>\n",
       "<p>5 rows × 26 columns</p>\n",
       "</div>"
      ],
      "text/plain": [
       "           id                                                url  \\\n",
       "0  7222695916  https://prescott.craigslist.org/cto/d/prescott...   \n",
       "1  7218891961  https://fayar.craigslist.org/ctd/d/bentonville...   \n",
       "2  7221797935  https://keys.craigslist.org/cto/d/summerland-k...   \n",
       "3  7222270760  https://worcester.craigslist.org/cto/d/west-br...   \n",
       "4  7210384030  https://greensboro.craigslist.org/cto/d/trinit...   \n",
       "\n",
       "                   region                         region_url  price  year  \\\n",
       "0                prescott    https://prescott.craigslist.org   6000   NaN   \n",
       "1            fayetteville       https://fayar.craigslist.org  11900   NaN   \n",
       "2            florida keys        https://keys.craigslist.org  21000   NaN   \n",
       "3  worcester / central MA   https://worcester.craigslist.org   1500   NaN   \n",
       "4              greensboro  https://greensboro.craigslist.org   4900   NaN   \n",
       "\n",
       "  manufacturer model condition cylinders  ... size  type paint_color  \\\n",
       "0          NaN   NaN       NaN       NaN  ...  NaN   NaN         NaN   \n",
       "1          NaN   NaN       NaN       NaN  ...  NaN   NaN         NaN   \n",
       "2          NaN   NaN       NaN       NaN  ...  NaN   NaN         NaN   \n",
       "3          NaN   NaN       NaN       NaN  ...  NaN   NaN         NaN   \n",
       "4          NaN   NaN       NaN       NaN  ...  NaN   NaN         NaN   \n",
       "\n",
       "  image_url description county state lat long posting_date  \n",
       "0       NaN         NaN    NaN    az NaN  NaN          NaN  \n",
       "1       NaN         NaN    NaN    ar NaN  NaN          NaN  \n",
       "2       NaN         NaN    NaN    fl NaN  NaN          NaN  \n",
       "3       NaN         NaN    NaN    ma NaN  NaN          NaN  \n",
       "4       NaN         NaN    NaN    nc NaN  NaN          NaN  \n",
       "\n",
       "[5 rows x 26 columns]"
      ]
     },
     "execution_count": 4,
     "metadata": {},
     "output_type": "execute_result"
    }
   ],
   "source": [
    "vehicles.head()"
   ]
  },
  {
   "cell_type": "code",
   "execution_count": 5,
   "id": "2bcb9a99",
   "metadata": {},
   "outputs": [
    {
     "name": "stdout",
     "output_type": "stream",
     "text": [
      "<class 'pandas.core.frame.DataFrame'>\n",
      "RangeIndex: 426880 entries, 0 to 426879\n",
      "Data columns (total 26 columns):\n",
      " #   Column        Non-Null Count   Dtype  \n",
      "---  ------        --------------   -----  \n",
      " 0   id            426880 non-null  int64  \n",
      " 1   url           426880 non-null  object \n",
      " 2   region        426880 non-null  object \n",
      " 3   region_url    426880 non-null  object \n",
      " 4   price         426880 non-null  int64  \n",
      " 5   year          425675 non-null  float64\n",
      " 6   manufacturer  409234 non-null  object \n",
      " 7   model         421603 non-null  object \n",
      " 8   condition     252776 non-null  object \n",
      " 9   cylinders     249202 non-null  object \n",
      " 10  fuel          423867 non-null  object \n",
      " 11  odometer      422480 non-null  float64\n",
      " 12  title_status  418638 non-null  object \n",
      " 13  transmission  424324 non-null  object \n",
      " 14  VIN           265838 non-null  object \n",
      " 15  drive         296313 non-null  object \n",
      " 16  size          120519 non-null  object \n",
      " 17  type          334022 non-null  object \n",
      " 18  paint_color   296677 non-null  object \n",
      " 19  image_url     426812 non-null  object \n",
      " 20  description   426810 non-null  object \n",
      " 21  county        0 non-null       float64\n",
      " 22  state         426880 non-null  object \n",
      " 23  lat           420331 non-null  float64\n",
      " 24  long          420331 non-null  float64\n",
      " 25  posting_date  426812 non-null  object \n",
      "dtypes: float64(5), int64(2), object(19)\n",
      "memory usage: 84.7+ MB\n"
     ]
    }
   ],
   "source": [
    "vehicles.info()"
   ]
  },
  {
   "cell_type": "code",
   "execution_count": 6,
   "id": "31c606a9",
   "metadata": {},
   "outputs": [
    {
     "data": {
      "text/plain": [
       "0"
      ]
     },
     "execution_count": 6,
     "metadata": {},
     "output_type": "execute_result"
    }
   ],
   "source": [
    "#so county is completely null ?\n",
    "vehicles['county'].nunique()"
   ]
  },
  {
   "cell_type": "markdown",
   "id": "3b53ea5b",
   "metadata": {},
   "source": [
    "<hr style=\"border:2px solid black;\">"
   ]
  },
  {
   "cell_type": "markdown",
   "id": "ec8d2f51",
   "metadata": {},
   "source": [
    "## <center>Data Cleaning"
   ]
  },
  {
   "cell_type": "code",
   "execution_count": 7,
   "id": "b445394e",
   "metadata": {},
   "outputs": [],
   "source": [
    "#dropping the empty column\n",
    "vehicles = vehicles.drop('county', axis= 1)"
   ]
  },
  {
   "cell_type": "code",
   "execution_count": 8,
   "id": "2f78dba6",
   "metadata": {},
   "outputs": [
    {
     "name": "stdout",
     "output_type": "stream",
     "text": [
      "Date range: (Timestamp('2021-04-04 07:00:25+0000', tz='UTC'), Timestamp('2021-05-05 04:24:09+0000', tz='UTC'))\n"
     ]
    }
   ],
   "source": [
    "#checking if 'posting_date' column useful for time analysis\n",
    "# Convert the posting_date column to datetime format\n",
    "vehicles['posting_date'] = pd.to_datetime(vehicles['posting_date'], errors='coerce', utc= True)\n",
    "valid_dates = vehicles['posting_date'].dropna()\n",
    "# Get the date range\n",
    "date_range = (valid_dates.min(), valid_dates.max())\n",
    "print(f\"Date range: {date_range}\")"
   ]
  },
  {
   "cell_type": "markdown",
   "id": "851269a7",
   "metadata": {},
   "source": [
    "<small>the date range is too narrow to provide meaningful insights</small>"
   ]
  },
  {
   "cell_type": "code",
   "execution_count": 9,
   "id": "17cecb5a",
   "metadata": {},
   "outputs": [],
   "source": [
    "#these columns doesn't look useful for analysis\n",
    "columns_to_drop = ['url', 'region_url', 'VIN', 'image_url', 'description', 'posting_date']\n",
    "vehicles = vehicles.drop(columns=columns_to_drop)"
   ]
  },
  {
   "cell_type": "code",
   "execution_count": 10,
   "id": "a81bcb8f",
   "metadata": {},
   "outputs": [
    {
     "data": {
      "text/plain": [
       "id                   0\n",
       "region               0\n",
       "price                0\n",
       "year              1205\n",
       "manufacturer     17646\n",
       "model             5277\n",
       "condition       174104\n",
       "cylinders       177678\n",
       "fuel              3013\n",
       "odometer          4400\n",
       "title_status      8242\n",
       "transmission      2556\n",
       "drive           130567\n",
       "size            306361\n",
       "type             92858\n",
       "paint_color     130203\n",
       "state                0\n",
       "lat               6549\n",
       "long              6549\n",
       "dtype: int64"
      ]
     },
     "execution_count": 10,
     "metadata": {},
     "output_type": "execute_result"
    }
   ],
   "source": [
    "#looking for null values\n",
    "vehicles.isna().sum()"
   ]
  },
  {
   "cell_type": "code",
   "execution_count": 11,
   "id": "99255e7e",
   "metadata": {},
   "outputs": [
    {
     "data": {
      "text/plain": [
       "id                int64\n",
       "region           object\n",
       "price             int64\n",
       "year            float64\n",
       "manufacturer     object\n",
       "model            object\n",
       "condition        object\n",
       "cylinders        object\n",
       "fuel             object\n",
       "odometer        float64\n",
       "title_status     object\n",
       "transmission     object\n",
       "drive            object\n",
       "size             object\n",
       "type             object\n",
       "paint_color      object\n",
       "state            object\n",
       "lat             float64\n",
       "long            float64\n",
       "dtype: object"
      ]
     },
     "execution_count": 11,
     "metadata": {},
     "output_type": "execute_result"
    }
   ],
   "source": [
    "vehicles.dtypes"
   ]
  },
  {
   "cell_type": "code",
   "execution_count": 12,
   "id": "d9177584",
   "metadata": {},
   "outputs": [],
   "source": [
    "categorical_cols = vehicles.select_dtypes(exclude= 'number').columns"
   ]
  },
  {
   "cell_type": "code",
   "execution_count": 13,
   "id": "41830da1",
   "metadata": {},
   "outputs": [],
   "source": [
    "#Identify numerical columns\n",
    "numerical_cols = vehicles.select_dtypes('number').columns"
   ]
  },
  {
   "cell_type": "code",
   "execution_count": 14,
   "id": "4d6927ad",
   "metadata": {},
   "outputs": [
    {
     "data": {
      "text/plain": [
       "region               0\n",
       "manufacturer     17646\n",
       "model             5277\n",
       "condition       174104\n",
       "cylinders       177678\n",
       "fuel              3013\n",
       "title_status      8242\n",
       "transmission      2556\n",
       "drive           130567\n",
       "size            306361\n",
       "type             92858\n",
       "paint_color     130203\n",
       "state                0\n",
       "dtype: int64"
      ]
     },
     "execution_count": 14,
     "metadata": {},
     "output_type": "execute_result"
    }
   ],
   "source": [
    "vehicles[categorical_cols].isna().sum()"
   ]
  },
  {
   "cell_type": "code",
   "execution_count": 15,
   "id": "c532a67f",
   "metadata": {},
   "outputs": [],
   "source": [
    "# Impute missing values in not numerical columns using mode (grouped by manufacturer)\n",
    "for col in categorical_cols:\n",
    "    modes = vehicles.groupby('manufacturer', observed=False)[col].apply\\\n",
    "    (lambda x: x.mode().iloc[0] if not x.mode().empty else None)\n",
    "    vehicles[col] = vehicles[col].fillna(vehicles['manufacturer'].map(modes))"
   ]
  },
  {
   "cell_type": "code",
   "execution_count": 16,
   "id": "eca833cc",
   "metadata": {},
   "outputs": [],
   "source": [
    "# Impute by state for rows with missing manufacturer\n",
    "for col in categorical_cols:\n",
    "    modes = vehicles.groupby('state', observed=False)[col].apply\\\n",
    "    (lambda x: x.mode().iloc[0] if not x.mode().empty else None)\n",
    "    vehicles[col] = vehicles[col].fillna(vehicles['state'].map(modes))"
   ]
  },
  {
   "cell_type": "code",
   "execution_count": 17,
   "id": "04a396b6",
   "metadata": {},
   "outputs": [],
   "source": [
    "#Impute missing values in numerical columns using IterativeImputer (grouped by manufacturer)\n",
    "def impute_numerical(df, numerical_cols):\n",
    "    iter_imputer = IterativeImputer(max_iter = 10, random_state= 42)\n",
    "    # Apply Iterative Imputer to numerical columns (grouped by manufacturer)\n",
    "    for col in numerical_cols:\n",
    "        for group in df['manufacturer'].unique():\n",
    "            group_data = df[df['manufacturer'] == group]\n",
    "            imputed_values = iter_imputer.fit_transform(group_data[[col]])\n",
    "            df.loc[df['manufacturer'] == group, col] = imputed_values[:, 0]\n",
    "\n",
    "    return df"
   ]
  },
  {
   "cell_type": "code",
   "execution_count": 18,
   "id": "17c5f37e",
   "metadata": {},
   "outputs": [
    {
     "data": {
      "text/html": [
       "<div>\n",
       "<style scoped>\n",
       "    .dataframe tbody tr th:only-of-type {\n",
       "        vertical-align: middle;\n",
       "    }\n",
       "\n",
       "    .dataframe tbody tr th {\n",
       "        vertical-align: top;\n",
       "    }\n",
       "\n",
       "    .dataframe thead th {\n",
       "        text-align: right;\n",
       "    }\n",
       "</style>\n",
       "<table border=\"1\" class=\"dataframe\">\n",
       "  <thead>\n",
       "    <tr style=\"text-align: right;\">\n",
       "      <th></th>\n",
       "      <th>id</th>\n",
       "      <th>region</th>\n",
       "      <th>price</th>\n",
       "      <th>year</th>\n",
       "      <th>manufacturer</th>\n",
       "      <th>model</th>\n",
       "      <th>condition</th>\n",
       "      <th>cylinders</th>\n",
       "      <th>fuel</th>\n",
       "      <th>odometer</th>\n",
       "      <th>title_status</th>\n",
       "      <th>transmission</th>\n",
       "      <th>drive</th>\n",
       "      <th>size</th>\n",
       "      <th>type</th>\n",
       "      <th>paint_color</th>\n",
       "      <th>state</th>\n",
       "      <th>lat</th>\n",
       "      <th>long</th>\n",
       "    </tr>\n",
       "  </thead>\n",
       "  <tbody>\n",
       "    <tr>\n",
       "      <th>0</th>\n",
       "      <td>7222695916</td>\n",
       "      <td>prescott</td>\n",
       "      <td>6000</td>\n",
       "      <td>2009.440256</td>\n",
       "      <td>ford</td>\n",
       "      <td>silverado 1500</td>\n",
       "      <td>good</td>\n",
       "      <td>6 cylinders</td>\n",
       "      <td>gas</td>\n",
       "      <td>111755.335484</td>\n",
       "      <td>clean</td>\n",
       "      <td>automatic</td>\n",
       "      <td>4wd</td>\n",
       "      <td>full-size</td>\n",
       "      <td>sedan</td>\n",
       "      <td>white</td>\n",
       "      <td>az</td>\n",
       "      <td>38.508270</td>\n",
       "      <td>-94.438416</td>\n",
       "    </tr>\n",
       "    <tr>\n",
       "      <th>1</th>\n",
       "      <td>7218891961</td>\n",
       "      <td>fayetteville</td>\n",
       "      <td>11900</td>\n",
       "      <td>2009.666159</td>\n",
       "      <td>chevrolet</td>\n",
       "      <td>silverado 1500</td>\n",
       "      <td>good</td>\n",
       "      <td>8 cylinders</td>\n",
       "      <td>gas</td>\n",
       "      <td>105993.655507</td>\n",
       "      <td>clean</td>\n",
       "      <td>automatic</td>\n",
       "      <td>4wd</td>\n",
       "      <td>full-size</td>\n",
       "      <td>pickup</td>\n",
       "      <td>white</td>\n",
       "      <td>ar</td>\n",
       "      <td>38.797477</td>\n",
       "      <td>-94.413448</td>\n",
       "    </tr>\n",
       "    <tr>\n",
       "      <th>2</th>\n",
       "      <td>7221797935</td>\n",
       "      <td>florida keys</td>\n",
       "      <td>21000</td>\n",
       "      <td>2009.440256</td>\n",
       "      <td>ford</td>\n",
       "      <td>f-150</td>\n",
       "      <td>good</td>\n",
       "      <td>6 cylinders</td>\n",
       "      <td>gas</td>\n",
       "      <td>111755.335484</td>\n",
       "      <td>clean</td>\n",
       "      <td>automatic</td>\n",
       "      <td>fwd</td>\n",
       "      <td>full-size</td>\n",
       "      <td>sedan</td>\n",
       "      <td>white</td>\n",
       "      <td>fl</td>\n",
       "      <td>38.508270</td>\n",
       "      <td>-94.438416</td>\n",
       "    </tr>\n",
       "    <tr>\n",
       "      <th>3</th>\n",
       "      <td>7222270760</td>\n",
       "      <td>worcester / central MA</td>\n",
       "      <td>1500</td>\n",
       "      <td>2009.440256</td>\n",
       "      <td>ford</td>\n",
       "      <td>f-150</td>\n",
       "      <td>good</td>\n",
       "      <td>4 cylinders</td>\n",
       "      <td>gas</td>\n",
       "      <td>111755.335484</td>\n",
       "      <td>clean</td>\n",
       "      <td>automatic</td>\n",
       "      <td>4wd</td>\n",
       "      <td>full-size</td>\n",
       "      <td>sedan</td>\n",
       "      <td>white</td>\n",
       "      <td>ma</td>\n",
       "      <td>38.508270</td>\n",
       "      <td>-94.438416</td>\n",
       "    </tr>\n",
       "    <tr>\n",
       "      <th>4</th>\n",
       "      <td>7210384030</td>\n",
       "      <td>greensboro</td>\n",
       "      <td>4900</td>\n",
       "      <td>2009.440256</td>\n",
       "      <td>ford</td>\n",
       "      <td>f-150</td>\n",
       "      <td>good</td>\n",
       "      <td>6 cylinders</td>\n",
       "      <td>gas</td>\n",
       "      <td>111755.335484</td>\n",
       "      <td>clean</td>\n",
       "      <td>automatic</td>\n",
       "      <td>4wd</td>\n",
       "      <td>full-size</td>\n",
       "      <td>sedan</td>\n",
       "      <td>white</td>\n",
       "      <td>nc</td>\n",
       "      <td>38.508270</td>\n",
       "      <td>-94.438416</td>\n",
       "    </tr>\n",
       "    <tr>\n",
       "      <th>...</th>\n",
       "      <td>...</td>\n",
       "      <td>...</td>\n",
       "      <td>...</td>\n",
       "      <td>...</td>\n",
       "      <td>...</td>\n",
       "      <td>...</td>\n",
       "      <td>...</td>\n",
       "      <td>...</td>\n",
       "      <td>...</td>\n",
       "      <td>...</td>\n",
       "      <td>...</td>\n",
       "      <td>...</td>\n",
       "      <td>...</td>\n",
       "      <td>...</td>\n",
       "      <td>...</td>\n",
       "      <td>...</td>\n",
       "      <td>...</td>\n",
       "      <td>...</td>\n",
       "      <td>...</td>\n",
       "    </tr>\n",
       "    <tr>\n",
       "      <th>426875</th>\n",
       "      <td>7301591192</td>\n",
       "      <td>wyoming</td>\n",
       "      <td>23590</td>\n",
       "      <td>2019.000000</td>\n",
       "      <td>nissan</td>\n",
       "      <td>maxima s sedan 4d</td>\n",
       "      <td>good</td>\n",
       "      <td>6 cylinders</td>\n",
       "      <td>gas</td>\n",
       "      <td>32226.000000</td>\n",
       "      <td>clean</td>\n",
       "      <td>other</td>\n",
       "      <td>fwd</td>\n",
       "      <td>mid-size</td>\n",
       "      <td>sedan</td>\n",
       "      <td>white</td>\n",
       "      <td>wy</td>\n",
       "      <td>33.786500</td>\n",
       "      <td>-84.445400</td>\n",
       "    </tr>\n",
       "    <tr>\n",
       "      <th>426876</th>\n",
       "      <td>7301591187</td>\n",
       "      <td>wyoming</td>\n",
       "      <td>30590</td>\n",
       "      <td>2020.000000</td>\n",
       "      <td>volvo</td>\n",
       "      <td>s60 t5 momentum sedan 4d</td>\n",
       "      <td>good</td>\n",
       "      <td>5 cylinders</td>\n",
       "      <td>gas</td>\n",
       "      <td>12029.000000</td>\n",
       "      <td>clean</td>\n",
       "      <td>other</td>\n",
       "      <td>fwd</td>\n",
       "      <td>full-size</td>\n",
       "      <td>sedan</td>\n",
       "      <td>red</td>\n",
       "      <td>wy</td>\n",
       "      <td>33.786500</td>\n",
       "      <td>-84.445400</td>\n",
       "    </tr>\n",
       "    <tr>\n",
       "      <th>426877</th>\n",
       "      <td>7301591147</td>\n",
       "      <td>wyoming</td>\n",
       "      <td>34990</td>\n",
       "      <td>2020.000000</td>\n",
       "      <td>cadillac</td>\n",
       "      <td>xt4 sport suv 4d</td>\n",
       "      <td>good</td>\n",
       "      <td>6 cylinders</td>\n",
       "      <td>diesel</td>\n",
       "      <td>4174.000000</td>\n",
       "      <td>clean</td>\n",
       "      <td>other</td>\n",
       "      <td>4wd</td>\n",
       "      <td>full-size</td>\n",
       "      <td>hatchback</td>\n",
       "      <td>white</td>\n",
       "      <td>wy</td>\n",
       "      <td>33.779214</td>\n",
       "      <td>-84.411811</td>\n",
       "    </tr>\n",
       "    <tr>\n",
       "      <th>426878</th>\n",
       "      <td>7301591140</td>\n",
       "      <td>wyoming</td>\n",
       "      <td>28990</td>\n",
       "      <td>2018.000000</td>\n",
       "      <td>lexus</td>\n",
       "      <td>es 350 sedan 4d</td>\n",
       "      <td>good</td>\n",
       "      <td>6 cylinders</td>\n",
       "      <td>gas</td>\n",
       "      <td>30112.000000</td>\n",
       "      <td>clean</td>\n",
       "      <td>other</td>\n",
       "      <td>fwd</td>\n",
       "      <td>mid-size</td>\n",
       "      <td>sedan</td>\n",
       "      <td>silver</td>\n",
       "      <td>wy</td>\n",
       "      <td>33.786500</td>\n",
       "      <td>-84.445400</td>\n",
       "    </tr>\n",
       "    <tr>\n",
       "      <th>426879</th>\n",
       "      <td>7301591129</td>\n",
       "      <td>wyoming</td>\n",
       "      <td>30590</td>\n",
       "      <td>2019.000000</td>\n",
       "      <td>bmw</td>\n",
       "      <td>4 series 430i gran coupe</td>\n",
       "      <td>good</td>\n",
       "      <td>6 cylinders</td>\n",
       "      <td>gas</td>\n",
       "      <td>22716.000000</td>\n",
       "      <td>clean</td>\n",
       "      <td>other</td>\n",
       "      <td>rwd</td>\n",
       "      <td>mid-size</td>\n",
       "      <td>coupe</td>\n",
       "      <td>black</td>\n",
       "      <td>wy</td>\n",
       "      <td>33.779214</td>\n",
       "      <td>-84.411811</td>\n",
       "    </tr>\n",
       "  </tbody>\n",
       "</table>\n",
       "<p>426880 rows × 19 columns</p>\n",
       "</div>"
      ],
      "text/plain": [
       "                id                  region  price         year manufacturer  \\\n",
       "0       7222695916                prescott   6000  2009.440256         ford   \n",
       "1       7218891961            fayetteville  11900  2009.666159    chevrolet   \n",
       "2       7221797935            florida keys  21000  2009.440256         ford   \n",
       "3       7222270760  worcester / central MA   1500  2009.440256         ford   \n",
       "4       7210384030              greensboro   4900  2009.440256         ford   \n",
       "...            ...                     ...    ...          ...          ...   \n",
       "426875  7301591192                 wyoming  23590  2019.000000       nissan   \n",
       "426876  7301591187                 wyoming  30590  2020.000000        volvo   \n",
       "426877  7301591147                 wyoming  34990  2020.000000     cadillac   \n",
       "426878  7301591140                 wyoming  28990  2018.000000        lexus   \n",
       "426879  7301591129                 wyoming  30590  2019.000000          bmw   \n",
       "\n",
       "                           model condition    cylinders    fuel  \\\n",
       "0                 silverado 1500      good  6 cylinders     gas   \n",
       "1                 silverado 1500      good  8 cylinders     gas   \n",
       "2                          f-150      good  6 cylinders     gas   \n",
       "3                          f-150      good  4 cylinders     gas   \n",
       "4                          f-150      good  6 cylinders     gas   \n",
       "...                          ...       ...          ...     ...   \n",
       "426875         maxima s sedan 4d      good  6 cylinders     gas   \n",
       "426876  s60 t5 momentum sedan 4d      good  5 cylinders     gas   \n",
       "426877          xt4 sport suv 4d      good  6 cylinders  diesel   \n",
       "426878           es 350 sedan 4d      good  6 cylinders     gas   \n",
       "426879  4 series 430i gran coupe      good  6 cylinders     gas   \n",
       "\n",
       "             odometer title_status transmission drive       size       type  \\\n",
       "0       111755.335484        clean    automatic   4wd  full-size      sedan   \n",
       "1       105993.655507        clean    automatic   4wd  full-size     pickup   \n",
       "2       111755.335484        clean    automatic   fwd  full-size      sedan   \n",
       "3       111755.335484        clean    automatic   4wd  full-size      sedan   \n",
       "4       111755.335484        clean    automatic   4wd  full-size      sedan   \n",
       "...               ...          ...          ...   ...        ...        ...   \n",
       "426875   32226.000000        clean        other   fwd   mid-size      sedan   \n",
       "426876   12029.000000        clean        other   fwd  full-size      sedan   \n",
       "426877    4174.000000        clean        other   4wd  full-size  hatchback   \n",
       "426878   30112.000000        clean        other   fwd   mid-size      sedan   \n",
       "426879   22716.000000        clean        other   rwd   mid-size      coupe   \n",
       "\n",
       "       paint_color state        lat       long  \n",
       "0            white    az  38.508270 -94.438416  \n",
       "1            white    ar  38.797477 -94.413448  \n",
       "2            white    fl  38.508270 -94.438416  \n",
       "3            white    ma  38.508270 -94.438416  \n",
       "4            white    nc  38.508270 -94.438416  \n",
       "...            ...   ...        ...        ...  \n",
       "426875       white    wy  33.786500 -84.445400  \n",
       "426876         red    wy  33.786500 -84.445400  \n",
       "426877       white    wy  33.779214 -84.411811  \n",
       "426878      silver    wy  33.786500 -84.445400  \n",
       "426879       black    wy  33.779214 -84.411811  \n",
       "\n",
       "[426880 rows x 19 columns]"
      ]
     },
     "execution_count": 18,
     "metadata": {},
     "output_type": "execute_result"
    }
   ],
   "source": [
    "impute_numerical(vehicles, numerical_cols)"
   ]
  },
  {
   "cell_type": "code",
   "execution_count": 19,
   "id": "9dd03220",
   "metadata": {},
   "outputs": [
    {
     "data": {
      "text/plain": [
       "id              0\n",
       "region          0\n",
       "price           0\n",
       "year            0\n",
       "manufacturer    0\n",
       "model           0\n",
       "condition       0\n",
       "cylinders       0\n",
       "fuel            0\n",
       "odometer        0\n",
       "title_status    0\n",
       "transmission    0\n",
       "drive           0\n",
       "size            0\n",
       "type            0\n",
       "paint_color     0\n",
       "state           0\n",
       "lat             0\n",
       "long            0\n",
       "dtype: int64"
      ]
     },
     "execution_count": 19,
     "metadata": {},
     "output_type": "execute_result"
    }
   ],
   "source": [
    "vehicles.isna().sum()"
   ]
  },
  {
   "cell_type": "code",
   "execution_count": 20,
   "id": "0f3e5228",
   "metadata": {},
   "outputs": [
    {
     "data": {
      "text/plain": [
       "region            404\n",
       "manufacturer       42\n",
       "model           29667\n",
       "condition           6\n",
       "cylinders           8\n",
       "fuel                5\n",
       "title_status        6\n",
       "transmission        3\n",
       "drive               3\n",
       "size                4\n",
       "type               13\n",
       "paint_color        12\n",
       "state              51\n",
       "dtype: int64"
      ]
     },
     "execution_count": 20,
     "metadata": {},
     "output_type": "execute_result"
    }
   ],
   "source": [
    "vehicles[categorical_cols].nunique()"
   ]
  },
  {
   "cell_type": "code",
   "execution_count": 21,
   "id": "af5e32a2",
   "metadata": {},
   "outputs": [
    {
     "name": "stdout",
     "output_type": "stream",
     "text": [
      "3415172\n",
      "2148036\n"
     ]
    }
   ],
   "source": [
    "# Checking if 'model' column is benefecial to change to category dtype since it has a lot of unique values\n",
    "print(vehicles['model'].memory_usage())\n",
    "\n",
    "\n",
    "# Convert to category\n",
    "vehicles['model'] = vehicles['model'].astype('category')\n",
    "\n",
    "\n",
    "# Check memory after\n",
    "print(vehicles['model'].memory_usage())"
   ]
  },
  {
   "cell_type": "code",
   "execution_count": 22,
   "id": "68158d5d",
   "metadata": {},
   "outputs": [],
   "source": [
    "vehicles[categorical_cols] = vehicles[categorical_cols].astype('category')"
   ]
  },
  {
   "cell_type": "markdown",
   "id": "61e8159b",
   "metadata": {},
   "source": [
    "<hr style=\"border:2px solid black;\">"
   ]
  },
  {
   "cell_type": "markdown",
   "id": "0ed76a74",
   "metadata": {},
   "source": [
    "##  <center>Which manufacturers dominate the used car market?"
   ]
  },
  {
   "cell_type": "code",
   "execution_count": 23,
   "id": "d3fd4ce4",
   "metadata": {},
   "outputs": [],
   "source": [
    "manufacturer_counts = vehicles['manufacturer'].value_counts()\n",
    "manufacturer_percentage = (manufacturer_counts / manufacturer_counts.sum()) * 100\n"
   ]
  },
  {
   "cell_type": "code",
   "execution_count": 24,
   "id": "9d941666",
   "metadata": {},
   "outputs": [],
   "source": [
    "manufacturer_summary = pd.DataFrame({\n",
    "    'Total Listings': manufacturer_counts,\n",
    "    'Market Share (%)': manufacturer_percentage\n",
    "})"
   ]
  },
  {
   "cell_type": "code",
   "execution_count": 25,
   "id": "fc6296fc",
   "metadata": {},
   "outputs": [
    {
     "data": {
      "text/html": [
       "<div>\n",
       "<style scoped>\n",
       "    .dataframe tbody tr th:only-of-type {\n",
       "        vertical-align: middle;\n",
       "    }\n",
       "\n",
       "    .dataframe tbody tr th {\n",
       "        vertical-align: top;\n",
       "    }\n",
       "\n",
       "    .dataframe thead th {\n",
       "        text-align: right;\n",
       "    }\n",
       "</style>\n",
       "<table border=\"1\" class=\"dataframe\">\n",
       "  <thead>\n",
       "    <tr style=\"text-align: right;\">\n",
       "      <th></th>\n",
       "      <th>Total Listings</th>\n",
       "      <th>Market Share (%)</th>\n",
       "    </tr>\n",
       "    <tr>\n",
       "      <th>manufacturer</th>\n",
       "      <th></th>\n",
       "      <th></th>\n",
       "    </tr>\n",
       "  </thead>\n",
       "  <tbody>\n",
       "    <tr>\n",
       "      <th>ford</th>\n",
       "      <td>87543</td>\n",
       "      <td>20.507637</td>\n",
       "    </tr>\n",
       "    <tr>\n",
       "      <th>chevrolet</th>\n",
       "      <td>56032</td>\n",
       "      <td>13.125937</td>\n",
       "    </tr>\n",
       "    <tr>\n",
       "      <th>toyota</th>\n",
       "      <td>34322</td>\n",
       "      <td>8.040199</td>\n",
       "    </tr>\n",
       "    <tr>\n",
       "      <th>honda</th>\n",
       "      <td>21269</td>\n",
       "      <td>4.982431</td>\n",
       "    </tr>\n",
       "    <tr>\n",
       "      <th>nissan</th>\n",
       "      <td>19067</td>\n",
       "      <td>4.466595</td>\n",
       "    </tr>\n",
       "    <tr>\n",
       "      <th>jeep</th>\n",
       "      <td>19014</td>\n",
       "      <td>4.454179</td>\n",
       "    </tr>\n",
       "    <tr>\n",
       "      <th>ram</th>\n",
       "      <td>18342</td>\n",
       "      <td>4.296758</td>\n",
       "    </tr>\n",
       "    <tr>\n",
       "      <th>gmc</th>\n",
       "      <td>16785</td>\n",
       "      <td>3.932018</td>\n",
       "    </tr>\n",
       "    <tr>\n",
       "      <th>bmw</th>\n",
       "      <td>14699</td>\n",
       "      <td>3.443356</td>\n",
       "    </tr>\n",
       "    <tr>\n",
       "      <th>dodge</th>\n",
       "      <td>13707</td>\n",
       "      <td>3.210973</td>\n",
       "    </tr>\n",
       "    <tr>\n",
       "      <th>mercedes-benz</th>\n",
       "      <td>11817</td>\n",
       "      <td>2.768225</td>\n",
       "    </tr>\n",
       "    <tr>\n",
       "      <th>hyundai</th>\n",
       "      <td>10338</td>\n",
       "      <td>2.421758</td>\n",
       "    </tr>\n",
       "    <tr>\n",
       "      <th>subaru</th>\n",
       "      <td>9495</td>\n",
       "      <td>2.224278</td>\n",
       "    </tr>\n",
       "    <tr>\n",
       "      <th>volkswagen</th>\n",
       "      <td>9345</td>\n",
       "      <td>2.189140</td>\n",
       "    </tr>\n",
       "    <tr>\n",
       "      <th>kia</th>\n",
       "      <td>8457</td>\n",
       "      <td>1.981119</td>\n",
       "    </tr>\n",
       "    <tr>\n",
       "      <th>lexus</th>\n",
       "      <td>8200</td>\n",
       "      <td>1.920915</td>\n",
       "    </tr>\n",
       "    <tr>\n",
       "      <th>audi</th>\n",
       "      <td>7573</td>\n",
       "      <td>1.774035</td>\n",
       "    </tr>\n",
       "    <tr>\n",
       "      <th>cadillac</th>\n",
       "      <td>6953</td>\n",
       "      <td>1.628795</td>\n",
       "    </tr>\n",
       "    <tr>\n",
       "      <th>chrysler</th>\n",
       "      <td>6031</td>\n",
       "      <td>1.412809</td>\n",
       "    </tr>\n",
       "    <tr>\n",
       "      <th>acura</th>\n",
       "      <td>5978</td>\n",
       "      <td>1.400394</td>\n",
       "    </tr>\n",
       "    <tr>\n",
       "      <th>buick</th>\n",
       "      <td>5501</td>\n",
       "      <td>1.288653</td>\n",
       "    </tr>\n",
       "    <tr>\n",
       "      <th>mazda</th>\n",
       "      <td>5427</td>\n",
       "      <td>1.271317</td>\n",
       "    </tr>\n",
       "    <tr>\n",
       "      <th>infiniti</th>\n",
       "      <td>4802</td>\n",
       "      <td>1.124906</td>\n",
       "    </tr>\n",
       "    <tr>\n",
       "      <th>lincoln</th>\n",
       "      <td>4220</td>\n",
       "      <td>0.988568</td>\n",
       "    </tr>\n",
       "    <tr>\n",
       "      <th>volvo</th>\n",
       "      <td>3374</td>\n",
       "      <td>0.790386</td>\n",
       "    </tr>\n",
       "    <tr>\n",
       "      <th>mitsubishi</th>\n",
       "      <td>3292</td>\n",
       "      <td>0.771177</td>\n",
       "    </tr>\n",
       "    <tr>\n",
       "      <th>mini</th>\n",
       "      <td>2376</td>\n",
       "      <td>0.556597</td>\n",
       "    </tr>\n",
       "    <tr>\n",
       "      <th>pontiac</th>\n",
       "      <td>2288</td>\n",
       "      <td>0.535982</td>\n",
       "    </tr>\n",
       "    <tr>\n",
       "      <th>rover</th>\n",
       "      <td>2113</td>\n",
       "      <td>0.494987</td>\n",
       "    </tr>\n",
       "    <tr>\n",
       "      <th>jaguar</th>\n",
       "      <td>1946</td>\n",
       "      <td>0.455866</td>\n",
       "    </tr>\n",
       "    <tr>\n",
       "      <th>porsche</th>\n",
       "      <td>1384</td>\n",
       "      <td>0.324213</td>\n",
       "    </tr>\n",
       "    <tr>\n",
       "      <th>mercury</th>\n",
       "      <td>1184</td>\n",
       "      <td>0.277361</td>\n",
       "    </tr>\n",
       "    <tr>\n",
       "      <th>saturn</th>\n",
       "      <td>1090</td>\n",
       "      <td>0.255341</td>\n",
       "    </tr>\n",
       "    <tr>\n",
       "      <th>alfa-romeo</th>\n",
       "      <td>897</td>\n",
       "      <td>0.210129</td>\n",
       "    </tr>\n",
       "    <tr>\n",
       "      <th>tesla</th>\n",
       "      <td>868</td>\n",
       "      <td>0.203336</td>\n",
       "    </tr>\n",
       "    <tr>\n",
       "      <th>fiat</th>\n",
       "      <td>792</td>\n",
       "      <td>0.185532</td>\n",
       "    </tr>\n",
       "    <tr>\n",
       "      <th>harley-davidson</th>\n",
       "      <td>153</td>\n",
       "      <td>0.035841</td>\n",
       "    </tr>\n",
       "    <tr>\n",
       "      <th>ferrari</th>\n",
       "      <td>95</td>\n",
       "      <td>0.022254</td>\n",
       "    </tr>\n",
       "    <tr>\n",
       "      <th>datsun</th>\n",
       "      <td>63</td>\n",
       "      <td>0.014758</td>\n",
       "    </tr>\n",
       "    <tr>\n",
       "      <th>aston-martin</th>\n",
       "      <td>24</td>\n",
       "      <td>0.005622</td>\n",
       "    </tr>\n",
       "    <tr>\n",
       "      <th>land rover</th>\n",
       "      <td>21</td>\n",
       "      <td>0.004919</td>\n",
       "    </tr>\n",
       "    <tr>\n",
       "      <th>morgan</th>\n",
       "      <td>3</td>\n",
       "      <td>0.000703</td>\n",
       "    </tr>\n",
       "  </tbody>\n",
       "</table>\n",
       "</div>"
      ],
      "text/plain": [
       "                 Total Listings  Market Share (%)\n",
       "manufacturer                                     \n",
       "ford                      87543         20.507637\n",
       "chevrolet                 56032         13.125937\n",
       "toyota                    34322          8.040199\n",
       "honda                     21269          4.982431\n",
       "nissan                    19067          4.466595\n",
       "jeep                      19014          4.454179\n",
       "ram                       18342          4.296758\n",
       "gmc                       16785          3.932018\n",
       "bmw                       14699          3.443356\n",
       "dodge                     13707          3.210973\n",
       "mercedes-benz             11817          2.768225\n",
       "hyundai                   10338          2.421758\n",
       "subaru                     9495          2.224278\n",
       "volkswagen                 9345          2.189140\n",
       "kia                        8457          1.981119\n",
       "lexus                      8200          1.920915\n",
       "audi                       7573          1.774035\n",
       "cadillac                   6953          1.628795\n",
       "chrysler                   6031          1.412809\n",
       "acura                      5978          1.400394\n",
       "buick                      5501          1.288653\n",
       "mazda                      5427          1.271317\n",
       "infiniti                   4802          1.124906\n",
       "lincoln                    4220          0.988568\n",
       "volvo                      3374          0.790386\n",
       "mitsubishi                 3292          0.771177\n",
       "mini                       2376          0.556597\n",
       "pontiac                    2288          0.535982\n",
       "rover                      2113          0.494987\n",
       "jaguar                     1946          0.455866\n",
       "porsche                    1384          0.324213\n",
       "mercury                    1184          0.277361\n",
       "saturn                     1090          0.255341\n",
       "alfa-romeo                  897          0.210129\n",
       "tesla                       868          0.203336\n",
       "fiat                        792          0.185532\n",
       "harley-davidson             153          0.035841\n",
       "ferrari                      95          0.022254\n",
       "datsun                       63          0.014758\n",
       "aston-martin                 24          0.005622\n",
       "land rover                   21          0.004919\n",
       "morgan                        3          0.000703"
      ]
     },
     "execution_count": 25,
     "metadata": {},
     "output_type": "execute_result"
    }
   ],
   "source": [
    "manufacturer_summary.sort_values(by='Total Listings', ascending=False)"
   ]
  },
  {
   "cell_type": "code",
   "execution_count": 26,
   "id": "3cd30b02",
   "metadata": {},
   "outputs": [
    {
     "data": {
      "text/plain": [
       "['ford', 'chevrolet', 'toyota']"
      ]
     },
     "execution_count": 26,
     "metadata": {},
     "output_type": "execute_result"
    }
   ],
   "source": [
    "manufacturer_summary.sort_values(by='Total Listings', ascending=False).index[:3].tolist()"
   ]
  },
  {
   "cell_type": "markdown",
   "id": "aa311d66",
   "metadata": {},
   "source": [
    "#### so dominant manufacturers are ford, chevrolet and toyota"
   ]
  },
  {
   "cell_type": "markdown",
   "id": "e0ab7f08",
   "metadata": {},
   "source": [
    "<hr style=\"border:1px solid black;\">"
   ]
  },
  {
   "cell_type": "markdown",
   "id": "3997e5a2",
   "metadata": {},
   "source": [
    "## <center>What vehicle types are most commonly sold?"
   ]
  },
  {
   "cell_type": "code",
   "execution_count": 27,
   "id": "718a7ecf",
   "metadata": {},
   "outputs": [
    {
     "data": {
      "text/plain": [
       "type\n",
       "sedan          132024\n",
       "SUV             84126\n",
       "pickup          83940\n",
       "truck           35307\n",
       "other           22166\n",
       "coupe           19237\n",
       "hatchback       17089\n",
       "wagon           10751\n",
       "van              8548\n",
       "convertible      7741\n",
       "mini-van         4825\n",
       "offroad           609\n",
       "bus               517\n",
       "Name: count, dtype: int64"
      ]
     },
     "execution_count": 27,
     "metadata": {},
     "output_type": "execute_result"
    }
   ],
   "source": [
    "vehicles['type'].value_counts()"
   ]
  },
  {
   "cell_type": "code",
   "execution_count": 28,
   "id": "3de1565a",
   "metadata": {},
   "outputs": [
    {
     "data": {
      "text/html": [
       "<div>\n",
       "<style scoped>\n",
       "    .dataframe tbody tr th:only-of-type {\n",
       "        vertical-align: middle;\n",
       "    }\n",
       "\n",
       "    .dataframe tbody tr th {\n",
       "        vertical-align: top;\n",
       "    }\n",
       "\n",
       "    .dataframe thead th {\n",
       "        text-align: right;\n",
       "    }\n",
       "</style>\n",
       "<table border=\"1\" class=\"dataframe\">\n",
       "  <thead>\n",
       "    <tr style=\"text-align: right;\">\n",
       "      <th></th>\n",
       "      <th>Total Listings</th>\n",
       "      <th>Market Share (%)</th>\n",
       "    </tr>\n",
       "    <tr>\n",
       "      <th>type</th>\n",
       "      <th></th>\n",
       "      <th></th>\n",
       "    </tr>\n",
       "  </thead>\n",
       "  <tbody>\n",
       "    <tr>\n",
       "      <th>sedan</th>\n",
       "      <td>132024</td>\n",
       "      <td>30.927661</td>\n",
       "    </tr>\n",
       "    <tr>\n",
       "      <th>SUV</th>\n",
       "      <td>84126</td>\n",
       "      <td>19.707178</td>\n",
       "    </tr>\n",
       "    <tr>\n",
       "      <th>pickup</th>\n",
       "      <td>83940</td>\n",
       "      <td>19.663606</td>\n",
       "    </tr>\n",
       "    <tr>\n",
       "      <th>truck</th>\n",
       "      <td>35307</td>\n",
       "      <td>8.270943</td>\n",
       "    </tr>\n",
       "    <tr>\n",
       "      <th>other</th>\n",
       "      <td>22166</td>\n",
       "      <td>5.192560</td>\n",
       "    </tr>\n",
       "    <tr>\n",
       "      <th>coupe</th>\n",
       "      <td>19237</td>\n",
       "      <td>4.506419</td>\n",
       "    </tr>\n",
       "    <tr>\n",
       "      <th>hatchback</th>\n",
       "      <td>17089</td>\n",
       "      <td>4.003233</td>\n",
       "    </tr>\n",
       "    <tr>\n",
       "      <th>wagon</th>\n",
       "      <td>10751</td>\n",
       "      <td>2.518506</td>\n",
       "    </tr>\n",
       "    <tr>\n",
       "      <th>van</th>\n",
       "      <td>8548</td>\n",
       "      <td>2.002436</td>\n",
       "    </tr>\n",
       "    <tr>\n",
       "      <th>convertible</th>\n",
       "      <td>7741</td>\n",
       "      <td>1.813390</td>\n",
       "    </tr>\n",
       "    <tr>\n",
       "      <th>mini-van</th>\n",
       "      <td>4825</td>\n",
       "      <td>1.130294</td>\n",
       "    </tr>\n",
       "    <tr>\n",
       "      <th>offroad</th>\n",
       "      <td>609</td>\n",
       "      <td>0.142663</td>\n",
       "    </tr>\n",
       "    <tr>\n",
       "      <th>bus</th>\n",
       "      <td>517</td>\n",
       "      <td>0.121111</td>\n",
       "    </tr>\n",
       "  </tbody>\n",
       "</table>\n",
       "</div>"
      ],
      "text/plain": [
       "             Total Listings  Market Share (%)\n",
       "type                                         \n",
       "sedan                132024         30.927661\n",
       "SUV                   84126         19.707178\n",
       "pickup                83940         19.663606\n",
       "truck                 35307          8.270943\n",
       "other                 22166          5.192560\n",
       "coupe                 19237          4.506419\n",
       "hatchback             17089          4.003233\n",
       "wagon                 10751          2.518506\n",
       "van                    8548          2.002436\n",
       "convertible            7741          1.813390\n",
       "mini-van               4825          1.130294\n",
       "offroad                 609          0.142663\n",
       "bus                     517          0.121111"
      ]
     },
     "execution_count": 28,
     "metadata": {},
     "output_type": "execute_result"
    }
   ],
   "source": [
    "# Total number of listings per vehicle type\n",
    "type_counts = vehicles['type'].value_counts()\n",
    "\n",
    "# Percentage of each vehicle type\n",
    "type_percentage = (type_counts / type_counts.sum()) * 100\n",
    "\n",
    "# Combine into a DataFrame for better representation\n",
    "type_summary = pd.DataFrame({\n",
    "    'Total Listings': type_counts,\n",
    "    'Market Share (%)': type_percentage\n",
    "})\n",
    "\n",
    "# Sort by total listings in descending order\n",
    "type_summary = type_summary.sort_values(by='Total Listings', ascending=False)\n",
    "\n",
    "type_summary\n"
   ]
  },
  {
   "cell_type": "markdown",
   "id": "979198b6",
   "metadata": {},
   "source": [
    "<hr style=\"border:1px solid black;\">"
   ]
  },
  {
   "cell_type": "markdown",
   "id": "8fb066f1",
   "metadata": {},
   "source": [
    "# <center> Top manufacturers by median price"
   ]
  },
  {
   "cell_type": "code",
   "execution_count": 29,
   "id": "f00bf2bb",
   "metadata": {},
   "outputs": [
    {
     "data": {
      "image/png": "[encoded data removed]",
      "text/plain": [
       "<Figure size 640x480 with 1 Axes>"
      ]
     },
     "metadata": {},
     "output_type": "display_data"
    }
   ],
   "source": [
    "# Calculate median price by manufacturer\n",
    "top_manufacturers = vehicles.groupby('manufacturer', observed= True)['price'].median().nlargest(10)\n",
    "\n",
    "# Plot the top 10 manufacturers by median price\n",
    "top_manufacturers.plot(kind='barh', color='skyblue')\n",
    "plt.title('Top 10 Manufacturers by Median Price')\n",
    "plt.xlabel('Median Price')\n",
    "plt.show()"
   ]
  },
  {
   "cell_type": "markdown",
   "id": "a11ed35f",
   "metadata": {},
   "source": [
    "#### Ferrari has the highest median price among the top 10 manufacturers, followed by Aston Martin, Tesla, and others. "
   ]
  },
  {
   "cell_type": "code",
   "execution_count": 30,
   "id": "7951d88f",
   "metadata": {},
   "outputs": [
    {
     "data": {
      "image/png": "[encoded data removed]",
      "text/plain": [
       "<Figure size 640x480 with 1 Axes>"
      ]
     },
     "metadata": {},
     "output_type": "display_data"
    }
   ],
   "source": [
    "# Calculate median price by manufacturer\n",
    "cheapest_manufacturers = vehicles.groupby('manufacturer', observed= True)['price'].median().nsmallest(10)\n",
    "\n",
    "# Plot the cheapest 10 manufacturers by median price\n",
    "cheapest_manufacturers.plot(kind='barh', color='skyblue')\n",
    "plt.title('cheapest 10 Manufacturers by Median Price')\n",
    "plt.xlabel('Median Price')\n",
    "plt.show()"
   ]
  },
  {
   "cell_type": "markdown",
   "id": "39bd8a07",
   "metadata": {},
   "source": [
    "#### morgan has the cheapest median price followed by land rover,saturn. and others. "
   ]
  },
  {
   "cell_type": "markdown",
   "id": "0db84270",
   "metadata": {},
   "source": [
    "<hr style=\"border:1px solid black;\">"
   ]
  },
  {
   "cell_type": "markdown",
   "id": "2f293a48",
   "metadata": {},
   "source": [
    "## <center>Which regions should a used car dealership focus on if they want to maximize revenue from high-value car sales, and which regions are better suited for budget vehicle promotions?"
   ]
  },
  {
   "cell_type": "code",
   "execution_count": 31,
   "id": "b9d99d59",
   "metadata": {},
   "outputs": [
    {
     "data": {
      "image/png": "[encoded data removed]",
      "text/plain": [
       "<Figure size 640x480 with 1 Axes>"
      ]
     },
     "metadata": {},
     "output_type": "display_data"
    }
   ],
   "source": [
    "# Calculate median price by region\n",
    "region_prices = vehicles.groupby('region', observed= True)['price'].median().nlargest(10)\n",
    "\n",
    "# Plot the median price by region\n",
    "region_prices.plot(kind='barh', color='steelblue')\n",
    "plt.title('Median Price by Region')\n",
    "plt.xlabel('Median Price')\n",
    "plt.ylabel('Region')\n",
    "plt.show()"
   ]
  },
  {
   "cell_type": "code",
   "execution_count": 32,
   "id": "10f8481a",
   "metadata": {},
   "outputs": [
    {
     "data": {
      "image/png": "[encoded data removed]",
      "text/plain": [
       "<Figure size 640x480 with 1 Axes>"
      ]
     },
     "metadata": {},
     "output_type": "display_data"
    }
   ],
   "source": [
    "# Calculate median price by region\n",
    "low_region_prices = vehicles.groupby('region', observed= True)['price'].median().nsmallest(10)\n",
    "\n",
    "# Plot the median price by region\n",
    "low_region_prices.plot(kind='barh', color='steelblue')\n",
    "plt.title('Median Price by Region')\n",
    "plt.xlabel('Median Price')\n",
    "plt.ylabel('Region')\n",
    "plt.show()"
   ]
  },
  {
   "cell_type": "markdown",
   "id": "4cf19575",
   "metadata": {},
   "source": [
    "**Maximizing Revenue from High-Value Car Sales :**\n",
    "\n",
    "Dealerships should prioritize regions such as logan, olympic peninsula, where the median prices for vehicles are significantly higher. These regions indicate a market for premium or luxury vehicles, suggesting customers are willing to pay a premium for better condition, newer, or high-end cars.<br><br>\n",
    "**Promoting Budget Vehicles :**\n",
    "\n",
    "Regions like Imperial County and Klamath Falls are ideal for promoting budget or economy vehicles due to their low median prices. This likely reflects a preference for affordability or an overall lower purchasing power in these areas.\n"
   ]
  },
  {
   "cell_type": "markdown",
   "id": "1c593fce",
   "metadata": {},
   "source": [
    "<hr style=\"border:1px solid black;\">"
   ]
  },
  {
   "cell_type": "markdown",
   "id": "c3b4994e",
   "metadata": {},
   "source": [
    "## <center>How does the transmission type vary across different vehicle conditions?"
   ]
  },
  {
   "cell_type": "code",
   "execution_count": 33,
   "id": "6ee35496",
   "metadata": {},
   "outputs": [
    {
     "data": {
      "text/plain": [
       "<Figure size 1000x600 with 0 Axes>"
      ]
     },
     "metadata": {},
     "output_type": "display_data"
    },
    {
     "data": {
      "image/png": "[encoded data removed]",
      "text/plain": [
       "<Figure size 640x480 with 1 Axes>"
      ]
     },
     "metadata": {},
     "output_type": "display_data"
    }
   ],
   "source": [
    "# Transmission distribution by condition\n",
    "transmission_condition = vehicles.groupby(\\\n",
    "                                      'condition', observed= True)['transmission'].value_counts(normalize=True).unstack() * 100\n",
    "\n",
    "\n",
    "plt.figure(figsize=(10, 6))\n",
    "transmission_condition.plot(kind='bar', stacked=True)\n",
    "plt.title('Transmission Type Distribution by Condition')\n",
    "plt.xlabel('Condition')\n",
    "plt.ylabel('Percentage')\n",
    "plt.legend(title='Transmission', bbox_to_anchor=(1.05, 1), loc='upper left')\n",
    "plt.tight_layout()\n",
    "plt.show()"
   ]
  },
  {
   "cell_type": "markdown",
   "id": "71f42566",
   "metadata": {},
   "source": [
    "#### Across ALL conditions, automatic transmission is the most prevalent as  roughly 80-90% of vehicles in each condition have automatic transmission\n",
    "\n",
    "#### but manual transmission Consistently low percentage across all conditions as around 10-15% of vehicles have manual transmission\n",
    "<br>\n",
    "Market heavily prefers automatic transmission<br>\n",
    "Transmission type doesn't seem to dramatically change across vehicle conditions<br>\n",
    "<u>Potential buying/selling strategy:</u><br> Focus on automatic transmission vehicles"
   ]
  },
  {
   "cell_type": "markdown",
   "id": "6b88d3a6",
   "metadata": {},
   "source": [
    "<hr style=\"border:1px solid black;\">"
   ]
  },
  {
   "cell_type": "markdown",
   "id": "3fc30b2e",
   "metadata": {},
   "source": [
    "## <center>What fuel type has the most vehicles and which fuel type has the highest median price?"
   ]
  },
  {
   "cell_type": "code",
   "execution_count": 34,
   "id": "222d23aa",
   "metadata": {},
   "outputs": [
    {
     "data": {
      "image/png": "[encoded data removed]",
      "text/plain": [
       "<Figure size 1500x600 with 2 Axes>"
      ]
     },
     "metadata": {},
     "output_type": "display_data"
    },
    {
     "name": "stdout",
     "output_type": "stream",
     "text": [
      "Fuel Type Price Statistics:\n",
      "           count       mean   median          std\n",
      "fuel                                             \n",
      "diesel     30062  118177.69  27990.0  10378576.07\n",
      "electric    1698   24648.36  22544.5     17198.26\n",
      "gas       359222   73431.14  11999.0  12771171.84\n",
      "hybrid      5170   14582.43  11995.0     11479.14\n",
      "other      30728   66811.40  25990.0   7043045.82\n"
     ]
    }
   ],
   "source": [
    "# Fuel Type Distribution and Price Analysis\n",
    "plt.figure(figsize=(15,6))\n",
    "\n",
    "\n",
    "# Subplot 1: Fuel Type Counts\n",
    "plt.subplot(1,2,1)\n",
    "fuel_counts = vehicles['fuel'].value_counts()\n",
    "fuel_counts.plot(kind='bar')\n",
    "plt.title('Vehicle Count by Fuel Type')\n",
    "plt.xlabel('Fuel Type')\n",
    "plt.ylabel('Number of Vehicles')\n",
    "plt.xticks(rotation=45)\n",
    "\n",
    "\n",
    "# Subplot 2: Median Price by Fuel Type\n",
    "plt.subplot(1,2,2)\n",
    "fuel_avg_price = vehicles.groupby('fuel', observed= True)['price'].median().sort_values(ascending=False)\n",
    "fuel_avg_price.plot(kind='bar')\n",
    "plt.title('Median Price by Fuel Type')\n",
    "plt.xlabel('Fuel Type')\n",
    "plt.ylabel('Average Price')\n",
    "plt.xticks(rotation=45)\n",
    "\n",
    "\n",
    "plt.tight_layout()\n",
    "plt.show()\n",
    "\n",
    "\n",
    "# Additional Statistical Summary\n",
    "print(\"Fuel Type Price Statistics:\")\n",
    "print(vehicles.groupby('fuel', observed= True)['price'].agg(['count', 'mean', 'median', 'std']).round(2))"
   ]
  },
  {
   "cell_type": "markdown",
   "id": "d7cc3a71",
   "metadata": {},
   "source": [
    "#### Based on the analysis, gas-powered vehicles dominate the market with 359,222 units, while diesel vehicles command the highest median price at $27,990."
   ]
  },
  {
   "cell_type": "code",
   "execution_count": null,
   "id": "ff20bc80",
   "metadata": {},
   "outputs": [],
   "source": []
  }
 ],
 "metadata": {
  "kernelspec": {
   "display_name": "Python 3 (ipykernel)",
   "language": "python",
   "name": "python3"
  },
  "language_info": {
   "codemirror_mode": {
    "name": "ipython",
    "version": 3
   },
   "file_extension": ".py",
   "mimetype": "text/x-python",
   "name": "python",
   "nbconvert_exporter": "python",
   "pygments_lexer": "ipython3",
   "version": "3.11.8"
  }
 },
 "nbformat": 4,
 "nbformat_minor": 5
}
